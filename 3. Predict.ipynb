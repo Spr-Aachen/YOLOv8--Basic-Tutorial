{
 "cells": [
  {
   "cell_type": "markdown",
   "metadata": {},
   "source": [
    "## Predict"
   ]
  },
  {
   "cell_type": "code",
   "execution_count": null,
   "metadata": {},
   "outputs": [],
   "source": [
    "from ultralytics import YOLO\n",
    "\n",
    "\n",
    "\n",
    "Model = YOLO(\n",
    "    model = './runs/detect/yolov8n_Infrared-Ocean-Target/weights/epoch100.pt' # Path to your yolo model\n",
    ")\n",
    "\n",
    "# Predict with model\n",
    "PredictResult = Model.predict(\n",
    "    source = './test.jpg' # Path to your test media\n",
    ")"
   ]
  },
  {
   "cell_type": "code",
   "execution_count": null,
   "metadata": {},
   "outputs": [],
   "source": [
    "import cv2\n",
    "from ultralytics import YOLO\n",
    "\n",
    "\n",
    "def Predicter(\n",
    "    model: str,\n",
    "    media: str\n",
    "):\n",
    "    # Load model\n",
    "    Model = YOLO(model)\n",
    "\n",
    "    def Predict(image):\n",
    "        # Run YOLOv8 inference on the image\n",
    "        results = Model(image)\n",
    "        # Visualize the results on the frame\n",
    "        annotated_frame = results[0].plot()\n",
    "        # Display the annotated frame\n",
    "        cv2.imshow(\"YOLOv8 Inference\", annotated_frame)\n",
    "\n",
    "    # Predict video\n",
    "    if media.endswith('.mp4') or media.endswith('.avi'):\n",
    "        # Open the video file\n",
    "        Capture = cv2.VideoCapture(media)\n",
    "        # Loop through the video frames\n",
    "        while Capture.isOpened():\n",
    "            # Read a frame from the video\n",
    "            success, frame = Capture.read()\n",
    "            if success:\n",
    "                Predict(frame)\n",
    "                # Break the loop if 'q' is pressed\n",
    "                if cv2.waitKey(0) & 0xFF == ord(\"q\"):\n",
    "                    break\n",
    "            else:\n",
    "                # Break the loop if the end of the video is reached\n",
    "                break\n",
    "        # Release the video capture object and close the display window\n",
    "        Capture.release()\n",
    "        cv2.destroyAllWindows()\n",
    "\n",
    "    # Predict image\n",
    "    if media.endswith('.jpg') or media.endswith('.png'):\n",
    "        # Open the image file\n",
    "        image = cv2.imread(media)\n",
    "        Predict(image)\n",
    "        cv2.waitKey(0)\n",
    "        cv2.destroyAllWindows()\n",
    "\n",
    "\n",
    "Predicter(\n",
    "    model = './runs/detect/yolov8n_Infrared-Ocean-Target/weights/epoch100.pt', # Path to your yolo model,\n",
    "    media = './test.jpg' # Path to your test media\n",
    ")"
   ]
  }
 ],
 "metadata": {
  "language_info": {
   "name": "python"
  }
 },
 "nbformat": 4,
 "nbformat_minor": 2
}
