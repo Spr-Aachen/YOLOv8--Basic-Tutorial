{
 "cells": [
  {
   "cell_type": "markdown",
   "metadata": {},
   "source": [
    "## Train and Validate"
   ]
  },
  {
   "cell_type": "code",
   "execution_count": null,
   "metadata": {},
   "outputs": [],
   "source": [
    "from ultralytics import YOLO\n",
    "\n",
    "\n",
    "# Load pretrained model\n",
    "Model = YOLO(\n",
    "    model = './yolov8n.pt' # Path to pretrained yolo model (Will download if not exist)\n",
    ")\n",
    "\n",
    "# Train model\n",
    "TrainResults = Model.train(\n",
    "    data = './Infrared-Ocean-Target.yaml', # Path to your yaml file\n",
    "    imgsz = 640, # Image size\n",
    "    epochs = 60,\n",
    "    batch = 8,\n",
    "    #resume = True, # Unfortunately it's not working\n",
    "    save_period = 30, # Save checkpoint after referred epochs\n",
    "    name = 'yolov8n_Infrared-Ocean-Target' # Folder's name (See ./runs/detect/)\n",
    ")\n",
    "\n",
    "# Validate model\n",
    "ValidateResults = Model.val() # Validate the model on the validation dataset"
   ]
  }
 ],
 "metadata": {
  "kernelspec": {
   "display_name": "base",
   "language": "python",
   "name": "python3"
  },
  "language_info": {
   "codemirror_mode": {
    "name": "ipython",
    "version": 3
   },
   "file_extension": ".py",
   "mimetype": "text/x-python",
   "name": "python",
   "nbconvert_exporter": "python",
   "pygments_lexer": "ipython3",
   "version": "3.9.16"
  }
 },
 "nbformat": 4,
 "nbformat_minor": 2
}
